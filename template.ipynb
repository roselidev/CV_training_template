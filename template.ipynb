{
 "cells": [
  {
   "cell_type": "code",
   "execution_count": 1,
   "metadata": {},
   "outputs": [],
   "source": [
    "%matplotlib inline\n",
    "import torch\n",
    "import torchvision\n",
    "import torch.optim as optim\n",
    "from tqdm.auto import tqdm\n",
    "from torch.nn import functional as F\n",
    "import numpy as np\n",
    "import matplotlib.pyplot as plt\n",
    "import datetime\n",
    "from pytz import timezone\n",
    "import os\n",
    "import matplotlib.pyplot as plt\n",
    "\n",
    "from dataset import CustomDataset, CustomTransform\n",
    "from model import CustomModel\n",
    "from configs.config import Config\n",
    "from util import Trainer, evaluate, inference"
   ]
  },
  {
   "cell_type": "code",
   "execution_count": 2,
   "metadata": {},
   "outputs": [],
   "source": [
    "cfg = {\n",
    "    'data':{\n",
    "        'dataset': 'custom_dataset.py', \n",
    "        'data_root': '/path/to/data/where/dataset/root/folder/locates', \n",
    "        'train_dir': 'train', \n",
    "        'test_dir': 'test',\n",
    "        'img_resize': 480\n",
    "        },\n",
    "    'train':{\n",
    "        'device':0, \n",
    "        'epochs':[3,5,10], \n",
    "        'batch_size':[16,32], \n",
    "        'learning_rate':0.00001, \n",
    "        'optim':'adam'\n",
    "        }\n",
    "    }\n",
    "\n",
    "cfg = Config(dic=cfg)"
   ]
  },
  {
   "cell_type": "code",
   "execution_count": null,
   "metadata": {},
   "outputs": [],
   "source": [
    "# check data\n",
    "def imshow_grid(imgs, tf_inv=None, meta=None):\n",
    "    figure, axes = plt.subplots(2, 3, figsize=(12,6))\n",
    "    ax = axes.flatten()\n",
    "    for i, im in enumerate(imgs):\n",
    "        if tf_inv:\n",
    "            ax[i].imshow(tf_inv(im), cmap='gray')\n",
    "        else:\n",
    "            ax[i].imshow(im, cmap='gray')\n",
    "        if meta:\n",
    "            ax[i].set_title(meta['img_path'][i][-10:])\n",
    "        ax[i].axis('off')\n",
    "    figure.tight_layout()\n",
    "    plt.show()\n",
    "\n",
    "tf, tf_inv = CustomTransform(cfg.data.img_resize, cfg.data.img_resize_center).get()\n",
    "\n",
    "trainset = CustomDataset(root = cfg.data.data_root, train = True, transform = tf, train_dir=cfg.data.train_dir, test_dir=cfg.data.test_dir)\n",
    "trainloader = torch.utils.data.DataLoader(trainset, batch_size = b, shuffle = True, num_workers = 2)\n",
    "\n",
    "testset = CustomDataset(root = cfg.data.data_root, train = False, transform = tf, train_dir=cfg.data.train_dir, test_dir=cfg.data.test_dir)\n",
    "testloader = torch.utils.data.DataLoader(testset, batch_size = b, shuffle = True, num_workers = 2)\n",
    "\n",
    "sample, label, meta = next(iter(trainloader))\n",
    "anomaly_sample, _, anomaly_meta = next(iter(testloader))\n",
    "print(len(trainset))\n",
    "print(len(testset))\n",
    "\n",
    "imshow_grid(sample[0:6], tf_inv, meta)\n",
    "imshow_grid(anomaly_sample[0:6], tf_inv, anomaly_meta)"
   ]
  },
  {
   "cell_type": "code",
   "execution_count": null,
   "metadata": {},
   "outputs": [],
   "source": [
    "# train\n",
    "trainer = Trainer(cfg)\n",
    "trainer.train()"
   ]
  },
  {
   "cell_type": "code",
   "execution_count": null,
   "metadata": {},
   "outputs": [],
   "source": [
    "# infer\n",
    "inference(cfg)"
   ]
  },
  {
   "cell_type": "code",
   "execution_count": null,
   "metadata": {},
   "outputs": [],
   "source": [
    "# evaluate\n",
    "evaluate(cfg)"
   ]
  }
 ],
 "metadata": {
  "kernelspec": {
   "display_name": "Python 3.7.11 ('nia')",
   "language": "python",
   "name": "python3"
  },
  "language_info": {
   "codemirror_mode": {
    "name": "ipython",
    "version": 3
   },
   "file_extension": ".py",
   "mimetype": "text/x-python",
   "name": "python",
   "nbconvert_exporter": "python",
   "pygments_lexer": "ipython3",
   "version": "3.7.11"
  },
  "orig_nbformat": 4,
  "vscode": {
   "interpreter": {
    "hash": "0cc79af29f9f559c68092fda6582389d750f467c38ab12d8262ffba857baad7a"
   }
  }
 },
 "nbformat": 4,
 "nbformat_minor": 2
}
